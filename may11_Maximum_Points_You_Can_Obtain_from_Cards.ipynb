{
  "nbformat": 4,
  "nbformat_minor": 0,
  "metadata": {
    "colab": {
      "name": "may11_Maximum Points You Can Obtain from Cards.ipynb",
      "provenance": []
    },
    "kernelspec": {
      "name": "python3",
      "display_name": "Python 3"
    },
    "language_info": {
      "name": "python"
    }
  },
  "cells": [
    {
      "cell_type": "markdown",
      "metadata": {
        "id": "uToAJkgvo4X1"
      },
      "source": [
        ""
      ]
    },
    {
      "cell_type": "code",
      "metadata": {
        "id": "FqFtGOWIoY1s"
      },
      "source": [
        "There are several cards arranged in a row, and each card has an associated number of points The points are given in the integer array cardPoints.\n",
        "\n",
        "In one step, you can take one card from the beginning or from the end of the row. You have to take exactly k cards.\n",
        "\n",
        "Your score is the sum of the points of the cards you have taken.\n",
        "\n",
        "Given the integer array cardPoints and the integer k, return the maximum score you can obtain.\n",
        "\n",
        " \n",
        "\n",
        "Example 1:\n",
        "\n",
        "Input: cardPoints = [1,2,3,4,5,6,1], k = 3\n",
        "Output: 12\n",
        "Explanation: After the first step, your score will always be 1. However, choosing the rightmost card first will maximize your total score. The optimal strategy is to take the three cards on the right, giving a final score of 1 + 6 + 5 = 12.\n",
        "Example 2:\n",
        "\n",
        "Input: cardPoints = [2,2,2], k = 2\n",
        "Output: 4\n",
        "Explanation: Regardless of which two cards you take, your score will always be 4.\n",
        "Example 3:\n",
        "\n",
        "Input: cardPoints = [9,7,7,9,7,7,9], k = 7\n",
        "Output: 55\n",
        "Explanation: You have to take all the cards. Your score is the sum of points of all cards.\n",
        "Example 4:\n",
        "\n",
        "Input: cardPoints = [1,1000,1], k = 1\n",
        "Output: 1\n",
        "Explanation: You cannot take the card in the middle. Your best score is 1. \n",
        "Example 5:\n",
        "\n",
        "Input: cardPoints = [1,79,80,1,1,1,200,1], k = 3\n",
        "Output: 202\n",
        " \n",
        "\n",
        "Constraints:\n",
        "\n",
        "1 <= cardPoints.length <= 10^5\n",
        "1 <= cardPoints[i] <= 10^4\n",
        "1 <= k <= cardPoints.length"
      ],
      "execution_count": null,
      "outputs": []
    },
    {
      "cell_type": "code",
      "metadata": {
        "id": "uPNTaN2upDKY"
      },
      "source": [
        "class Solution:\n",
        "    def maxScore(self, cardPoints: List[int], k: int) -> int:\n",
        "        sum_beg = 0\n",
        "        for i in range(k): \n",
        "            sum_beg += cardPoints[i]\n",
        "            #sum_end += cardPoints[-i-1]\n",
        "        maxSum = sum_beg  \n",
        "        #print(maxSum)\n",
        "        for i in range(k): \n",
        "            sum_beg = sum_beg - cardPoints[k-i-1] + cardPoints[-i-1]\n",
        "            maxSum = max(maxSum, sum_beg)\n",
        "            #print(i)\n",
        "            #print(maxSum)\n",
        "        return maxSum   "
      ],
      "execution_count": null,
      "outputs": []
    },
    {
      "cell_type": "markdown",
      "metadata": {
        "id": "lk50w3c4pJMe"
      },
      "source": [
        "Runtime: 424 ms (51.95%)\n",
        "Memory Usage: 27.4 MB (Your memory usage beats 87.49 % of python3 submissions.)"
      ]
    },
    {
      "cell_type": "code",
      "metadata": {
        "id": "mcCp6KTXrF-3"
      },
      "source": [
        "class Solution:\n",
        "    def maxScore(self, cardPoints: List[int], k: int) -> int:\n",
        "        \n",
        "        maxSum = sum_beg = sum(cardPoints[:k]) \n",
        "        \n",
        "        for i in range(k): \n",
        "            sum_beg = sum_beg - cardPoints[k-i-1] + cardPoints[-i-1]\n",
        "            maxSum = max(maxSum, sum_beg)\n",
        "            \n",
        "        return maxSum   "
      ],
      "execution_count": null,
      "outputs": []
    },
    {
      "cell_type": "markdown",
      "metadata": {
        "id": "fLhtlaI_rLo3"
      },
      "source": [
        "Runtime: 408 ms  Your runtime beats 79.85 % of python3 submissions.\n",
        "Memory Usage: 27.5 MB  Your memory usage beats 87.49 % of python3 submissions."
      ]
    },
    {
      "cell_type": "markdown",
      "metadata": {
        "id": "XtuqXe_psgcS"
      },
      "source": [
        "Сначала посчитала сумму с начала до к. Далее убираю к-й элемент, добавляю элемент с конца, смотрю какая сумма больше. итд."
      ]
    },
    {
      "cell_type": "code",
      "metadata": {
        "id": "5zCfqXqDsprD"
      },
      "source": [
        ""
      ],
      "execution_count": null,
      "outputs": []
    }
  ]
}